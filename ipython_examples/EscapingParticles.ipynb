{
 "cells": [
  {
   "cell_type": "markdown",
   "metadata": {
    "collapsed": true
   },
   "source": [
    "# Escaping particles\n",
    "\n",
    "Sometimes we are not interested in particles that get too far from the central body.  Here we will define a radius beyond which we remove particles from the simulation.  Let's set up an artificial situation with 2 planets, and the inner one simply moves radially outward with $v > v_{escape}$."
   ]
  },
  {
   "cell_type": "code",
   "execution_count": 1,
   "metadata": {
    "collapsed": true
   },
   "outputs": [],
   "source": [
    "import rebound\n",
    "import numpy as np\n",
    "def setupSimulation():\n",
    "    sim = rebound.Simulation()\n",
    "    sim.integrator = \"ias15\" # IAS15 is the default integrator, so we don't need this line\n",
    "    sim.add(m=1., id=0)\n",
    "    sim.add(m=1e-3,x=1.,vx=2., id=1)\n",
    "    sim.add(m=1e-3,a=1.25,anom=np.pi/2, id=2)\n",
    "    sim.move_to_com()\n",
    "    return sim"
   ]
  },
  {
   "cell_type": "markdown",
   "metadata": {
    "collapsed": true
   },
   "source": [
    "We have assigned each particle an ID for later reference (see [IDs.ipynb](IDs.ipynb) for more information)."
   ]
  },
  {
   "cell_type": "code",
   "execution_count": 2,
   "metadata": {
    "collapsed": false
   },
   "outputs": [
    {
     "name": "stdout",
     "output_type": "stream",
     "text": [
      "---------------------------------\n",
      "Rebound version:     \t2.0.0\n",
      "Number of particles: \t3\n",
      "Selected integrator: \tias15\n",
      "Simulation time:     \t0.000000\n",
      "Current timestep:    \t0.001000\n",
      "---------------------------------\n",
      "<rebound.Particle object, id=0 m=1.0 x=-0.000999000999001 y=-0.00124750499002 z=0.0 vx=-0.00110446789478 vy=-5.47131839717e-20 vz=0.0>\n",
      "<rebound.Particle object, id=1 m=0.001 x=0.999000999001 y=-0.00124750499002 z=0.0 vx=1.99889553211 vy=-5.47131839717e-20 vz=0.0>\n",
      "<rebound.Particle object, id=2 m=0.001 x=7.65446733775e-17 y=1.24875249501 z=0.0 vx=-0.894427637321 vy=5.47678971557e-17 vz=0.0>\n",
      "---------------------------------\n"
     ]
    }
   ],
   "source": [
    "sim = setupSimulation()\n",
    "sim.status()"
   ]
  },
  {
   "cell_type": "markdown",
   "metadata": {},
   "source": [
    "Now let's run a simulation for 20 years (in default units where $G=1$, and thus AU, yr/2$\\pi$, and $M_\\odot$, see [Units.ipynb](Units.ipynb) for how to change units), and set up a 50 AU sphere beyond which we remove particles from the simulation.  We can do this by setting the `exit_max_distance` flag of the simulation object.  If a particle's distance (from the origin of whatever inertial reference frame chosen) exceeds `sim.exit_max_distance`, an exception is thrown.\n",
    "\n",
    "If we simply call `sim.integrate()`, the program will crash due to the unhandled exception when the particle escapes, so we'll create a `try`-`except` block to catch the exception."
   ]
  },
  {
   "cell_type": "code",
   "execution_count": 3,
   "metadata": {
    "collapsed": false
   },
   "outputs": [
    {
     "name": "stdout",
     "output_type": "stream",
     "text": [
      "A particle escaped (r>exit_max_distance).\n"
     ]
    }
   ],
   "source": [
    "sim = setupSimulation() # Resets everything\n",
    "sim.exit_max_distance = 50.\n",
    "Noutputs = 1000\n",
    "times = np.linspace(0,20.*2.*np.pi,Noutputs)\n",
    "xs = np.zeros((3,Noutputs))\n",
    "ys = np.zeros((3,Noutputs))\n",
    "for i,time in enumerate(times):\n",
    "    try:\n",
    "        sim.integrate(time)  \n",
    "    except rebound.Escape as error:\n",
    "        print(error)\n",
    "        max_d2 = 0.\n",
    "        for p in sim.particles:\n",
    "            d2 = p.x*p.x + p.y*p.y + p.z*p.z\n",
    "            if d2>max_d2:\n",
    "                max_d2 = d2\n",
    "                mid = p.id\n",
    "        sim.remove(id=mid)\n",
    "    for j in range(sim.N):\n",
    "        xs[j,i] = sim.particles[j].x\n",
    "        ys[j,i] = sim.particles[j].y"
   ]
  },
  {
   "cell_type": "markdown",
   "metadata": {},
   "source": [
    "Let's check that the particle 1 was correctly removed from the simulation:"
   ]
  },
  {
   "cell_type": "code",
   "execution_count": 4,
   "metadata": {
    "collapsed": false
   },
   "outputs": [
    {
     "name": "stdout",
     "output_type": "stream",
     "text": [
      "---------------------------------\n",
      "Rebound version:     \t2.0.0\n",
      "Number of particles: \t2\n",
      "Selected integrator: \tias15\n",
      "Simulation time:     \t125.723085\n",
      "Current timestep:    \t0.220440\n",
      "---------------------------------\n",
      "<rebound.Particle object, id=0 m=1.0 x=-0.180610976535 y=0.000929402510226 z=0.0 vx=-0.00210918824695 vy=0.000581648843925 vz=0.0>\n",
      "<rebound.Particle object, id=2 m=0.001 x=-0.986996006023 y=-0.944727584287 z=0.0 vx=0.682432557092 vy=-0.581781349998 vz=0.0>\n",
      "---------------------------------\n"
     ]
    }
   ],
   "source": [
    "sim.status()"
   ]
  },
  {
   "cell_type": "markdown",
   "metadata": {},
   "source": [
    "So this worked as expected.  We went down to 2 particles, and `particles[1]` (which had `id = 1` before) has evidently been replaced with `particles[2]`).  By default, `remove()` preserves the ordering in the `particles` array (see [IDs.ipynb](IDs.ipynb) for more info).  Now let's plot what we got:"
   ]
  },
  {
   "cell_type": "code",
   "execution_count": 5,
   "metadata": {
    "collapsed": false
   },
   "outputs": [
    {
     "data": {
      "image/png": "[encoded data removed]",
      "text/plain": [
       "<matplotlib.figure.Figure at 0x105b695d0>"
      ]
     },
     "metadata": {},
     "output_type": "display_data"
    }
   ],
   "source": [
    "%matplotlib inline\n",
    "import matplotlib.pyplot as plt\n",
    "fig,ax = plt.subplots(figsize=(15,5))\n",
    "for i in range(3):\n",
    "    ax.plot(xs[i,:], ys[i,:])\n",
    "ax.set_aspect('equal')\n",
    "ax.set_xlim([-2,10]);"
   ]
  },
  {
   "cell_type": "markdown",
   "metadata": {},
   "source": [
    "Uh oh.  The problem here is that we kept updating `xs[1]` with `particles[1].x` after `particle[1]` was removed.  This means that following the removal, `xs[1]` all of a sudden started getting populated by the values for the particle with `ID=2`.  This is why the radial green trajectory (horizontal line along the $x$ axis) all of a sudden jumps onto the roughly circular orbit corresponding to the outer particle with `ID=2` (originally red).  One way to fix these problems is:"
   ]
  },
  {
   "cell_type": "code",
   "execution_count": 6,
   "metadata": {
    "collapsed": false
   },
   "outputs": [
    {
     "name": "stdout",
     "output_type": "stream",
     "text": [
      "A particle escaped (r>exit_max_distance).\n"
     ]
    },
    {
     "data": {
      "image/png": "[encoded data removed]",
      "text/plain": [
       "<matplotlib.figure.Figure at 0x10b198410>"
      ]
     },
     "metadata": {},
     "output_type": "display_data"
    }
   ],
   "source": [
    "sim = setupSimulation() # Resets everything\n",
    "sim.exit_max_distance = 50.\n",
    "Noutputs = 1000\n",
    "times = np.linspace(0,20.*2.*np.pi,Noutputs)\n",
    "xs = np.zeros((3,Noutputs))\n",
    "ys = np.zeros((3,Noutputs))\n",
    "for i,time in enumerate(times):\n",
    "    try:\n",
    "        sim.integrate(time)   \n",
    "    except rebound.Escape as error:\n",
    "        print(error)\n",
    "        max_d2 = 0.\n",
    "        for p in sim.particles:\n",
    "            d2 = p.x*p.x + p.y*p.y + p.z*p.z\n",
    "            if d2>max_d2:\n",
    "                max_d2 = d2\n",
    "                mid = p.id\n",
    "        sim.remove(id=mid)\n",
    "    for j in range(sim.N):\n",
    "        xs[sim.particles[j].id,i] = sim.particles[j].x\n",
    "        ys[sim.particles[j].id,i] = sim.particles[j].y\n",
    "    \n",
    "fig,ax = plt.subplots(figsize=(15,5))\n",
    "for i in range(3):\n",
    "    ax.plot(xs[i,:], ys[i,:])\n",
    "ax.set_aspect('equal')\n",
    "ax.set_xlim([-2,10]);"
   ]
  },
  {
   "cell_type": "markdown",
   "metadata": {},
   "source": [
    "Much better!  Since at the beginning of the integration the IDs match up with the corresponding indices in the `xs` and `ys` arrays, we solved problem by using the IDs as indices throughout the simulation.\n",
    "\n",
    "As an aside, the horizontal drift of the circular orbit is a real effect:  in the center of mass frame, if the Jupiter-mass planet is drifting right at some speed, the Sun must be moving at a speed lower by a factor of approximately 1000 (their mass ratio) in the opposite direction, so the Sun-particle2 system slowly drifts left.  If we integrated long enough, this would mean all our particles would eventually leave our box.  \n",
    "\n",
    "If we wanted to make sure things stayed in the box, we could additionally move to new center of mass frame after each removal of a particle, but this would introduce unphysical jumps in the remaining particles' time series, since their coordinates are measured between different inertial frames.  Of course, whether this matters depends on the application!"
   ]
  }
 ],
 "metadata": {
  "kernelspec": {
   "display_name": "Python 3",
   "language": "python",
   "name": "python3"
  },
  "language_info": {
   "codemirror_mode": {
    "name": "ipython",
    "version": 3
   },
   "file_extension": ".py",
   "mimetype": "text/x-python",
   "name": "python",
   "nbconvert_exporter": "python",
   "pygments_lexer": "ipython3",
   "version": "3.4.3"
  }
 },
 "nbformat": 4,
 "nbformat_minor": 0
}
